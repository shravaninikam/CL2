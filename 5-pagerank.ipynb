{
 "cells": [
  {
   "cell_type": "code",
   "execution_count": 1,
   "id": "a14a8a98-1b0c-4dbe-abee-b8ccf9a3b112",
   "metadata": {},
   "outputs": [
    {
     "name": "stdout",
     "output_type": "stream",
     "text": [
      "PageRank scores: {'A': 0.372526851328434, 'B': 0.19582391181458444, 'C': 0.3941492368569812, 'D': 0.037500000000000006}\n"
     ]
    }
   ],
   "source": [
    "import numpy as np\n",
    "\n",
    "def page_rank(graph, num_iterations=100, d=0.85):\n",
    "\n",
    "    # Initialize variables\n",
    "    num_nodes = len(graph)\n",
    "    ranks = {node: 1 / num_nodes for node in graph}\n",
    "    \n",
    "    for i in range(num_iterations):\n",
    "        new_ranks = {}\n",
    "        for node in graph:\n",
    "            rank_sum = 0\n",
    "            # Sum the rank contributions from nodes linking to the current node\n",
    "            for neighbor in graph:\n",
    "                if node in graph[neighbor]:\n",
    "                    rank_sum += ranks[neighbor] / len(graph[neighbor])\n",
    "            # Apply damping factor\n",
    "            new_ranks[node] = (1 - d) / num_nodes + d * rank_sum\n",
    "        \n",
    "        # Update ranks with new values\n",
    "        ranks = new_ranks\n",
    "    \n",
    "    return ranks\n",
    "\n",
    "# Example graph structure\n",
    "graph = {\n",
    "    \"A\": [\"B\", \"C\"],\n",
    "    \"B\": [\"C\"],\n",
    "    \"C\": [\"A\"],\n",
    "    \"D\": [\"C\"]\n",
    "}\n",
    "\n",
    "# Run PageRank\n",
    "page_ranks = page_rank(graph)\n",
    "print(\"PageRank scores:\", page_ranks)"
   ]
  },
  {
   "cell_type": "code",
   "execution_count": null,
   "id": "84100d77-ed6a-494e-ba6f-1fbeae75dbdf",
   "metadata": {},
   "outputs": [],
   "source": []
  }
 ],
 "metadata": {
  "kernelspec": {
   "display_name": "usr",
   "language": "python",
   "name": "python3"
  },
  "language_info": {
   "codemirror_mode": {
    "name": "ipython",
    "version": 3
   },
   "file_extension": ".py",
   "mimetype": "text/x-python",
   "name": "python",
   "nbconvert_exporter": "python",
   "pygments_lexer": "ipython3",
   "version": "3.12.6"
  }
 },
 "nbformat": 4,
 "nbformat_minor": 5
}
