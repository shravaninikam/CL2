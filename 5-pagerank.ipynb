{
 "cells": [
  {
   "cell_type": "code",
   "execution_count": 3,
   "id": "84100d77-ed6a-494e-ba6f-1fbeae75dbdf",
   "metadata": {},
   "outputs": [
    {
     "name": "stdout",
     "output_type": "stream",
     "text": [
      "PageRank scores: {'A': 0.3725268513284341, 'B': 0.1958239118145845, 'C': 0.39414923685698133, 'D': 0.037500000000000006}\n"
     ]
    }
   ],
   "source": [
    "import numpy as np\n",
    "\n",
    "def page_rank(graph, num_iterations=100, d=0.85):\n",
    "    num_nodes = len(graph)\n",
    "    ranks = {node: 1 / num_nodes for node in graph}\n",
    "\n",
    "    for _ in range(num_iterations):\n",
    "        ranks = {\n",
    "            node: (1 - d) / num_nodes + d * sum(\n",
    "                ranks[neighbor] / len(graph[neighbor]) \n",
    "                for neighbor in graph if node in graph[neighbor]\n",
    "            )\n",
    "            for node in graph\n",
    "        }\n",
    "    \n",
    "    return ranks\n",
    "\n",
    "# Example graph structure\n",
    "graph = {\n",
    "    \"A\": [\"B\", \"C\"],\n",
    "    \"B\": [\"C\"],\n",
    "    \"C\": [\"A\"],\n",
    "    \"D\": [\"C\"]\n",
    "}\n",
    "\n",
    "# Run PageRank\n",
    "page_ranks = page_rank(graph)\n",
    "print(\"PageRank scores:\", page_ranks)\n"
   ]
  }
 ],
 "metadata": {
  "kernelspec": {
   "display_name": "usr",
   "language": "python",
   "name": "python3"
  },
  "language_info": {
   "codemirror_mode": {
    "name": "ipython",
    "version": 3
   },
   "file_extension": ".py",
   "mimetype": "text/x-python",
   "name": "python",
   "nbconvert_exporter": "python",
   "pygments_lexer": "ipython3",
   "version": "3.12.7"
  }
 },
 "nbformat": 4,
 "nbformat_minor": 5
}
