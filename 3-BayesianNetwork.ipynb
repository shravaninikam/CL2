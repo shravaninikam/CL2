{
 "cells": [
  {
   "cell_type": "code",
   "execution_count": 1,
   "id": "092c8c93-4783-41dd-a72b-2761abc0a510",
   "metadata": {},
   "outputs": [],
   "source": [
    "import numpy as np\n",
    "import pandas as pd\n",
    "from pgmpy.models import BayesianNetwork\n",
    "from pgmpy.estimators import MaximumLikelihoodEstimator \n",
    "from pgmpy.inference import VariableElimination\n"
   ]
  },
  {
   "cell_type": "code",
   "execution_count": 2,
   "id": "9b02d574-3e2b-4b28-a532-33bb6fc606bd",
   "metadata": {},
   "outputs": [
    {
     "name": "stdout",
     "output_type": "stream",
     "text": [
      "Few examples from the dataset are given below : \n",
      "\n",
      "   age  sex  cp  trestbps  chol  fbs  restecg  thalach  exang  oldpeak  slope  \\\n",
      "0   63    1   3       145   233    1        0      150      0      2.3      0   \n",
      "1   37    1   2       130   250    0        1      187      0      3.5      0   \n",
      "2   41    0   1       130   204    0        0      172      0      1.4      2   \n",
      "3   56    1   1       120   236    0        1      178      0      0.8      2   \n",
      "4   57    0   0       120   354    0        1      163      1      0.6      2   \n",
      "\n",
      "   ca  thal  target  \n",
      "0   0     1       1  \n",
      "1   0     2       1  \n",
      "2   0     2       1  \n",
      "3   0     2       1  \n",
      "4   0     2       1  \n"
     ]
    }
   ],
   "source": [
    "# Read Cleveland Heart Disease data \n",
    "heartDisease = pd.read_csv('heart.csv') \n",
    "heartDisease = heartDisease.replace('?', np.nan)\n",
    "\n",
    "\n",
    "# Display the data\n",
    "print(f\"Few examples from the dataset are given below : \\n\\n{heartDisease.head()}\")"
   ]
  },
  {
   "cell_type": "code",
   "execution_count": 3,
   "id": "9f69d5d4-32d8-472b-a41e-25b146faa844",
   "metadata": {},
   "outputs": [],
   "source": [
    "# Model Bayesian Network\n",
    "model = BayesianNetwork([\n",
    "    ('age', 'trestbps'),\n",
    "    ('age', 'fbs'),\n",
    "    ('sex', 'trestbps'),\n",
    "    ('exang', 'trestbps'),\n",
    "    ('trestbps', 'target'),  # Changed from 'heartdisease' to 'target'\n",
    "    ('fbs', 'target'),        # Changed from 'heartdisease' to 'target'\n",
    "    ('target', 'restecg'),   # Changed from 'heartdisease' to 'target'\n",
    "    ('target', 'thalach'),    # Changed from 'heartdisease' to 'target'\n",
    "    ('target', 'chol')        # Changed from 'heartdisease' to 'target'\n",
    "])"
   ]
  },
  {
   "cell_type": "code",
   "execution_count": 4,
   "id": "783632d9-585a-4f9a-b13a-47a302244e9d",
   "metadata": {},
   "outputs": [
    {
     "name": "stdout",
     "output_type": "stream",
     "text": [
      "\n",
      "Learning CPD using Maximum likelihood estimators\n"
     ]
    }
   ],
   "source": [
    "# Learning CPDs using Maximum Likelihood Estimators\n",
    "print('\\nLearning CPD using Maximum likelihood estimators')\n",
    "model.fit(heartDisease, estimator=MaximumLikelihoodEstimator)"
   ]
  },
  {
   "cell_type": "code",
   "execution_count": 5,
   "id": "1a343891-4e1c-4a2c-9ccd-ffb474e4b16f",
   "metadata": {},
   "outputs": [
    {
     "name": "stdout",
     "output_type": "stream",
     "text": [
      "Inferencing with Bayesian Network:\n"
     ]
    }
   ],
   "source": [
    "# Inferencing with Bayesian Network \n",
    "print('Inferencing with Bayesian Network:') \n",
    "HeartDisease_infer = VariableElimination(model)"
   ]
  },
  {
   "cell_type": "code",
   "execution_count": 6,
   "id": "dcae96c0-4067-423d-a15c-60b69516e32f",
   "metadata": {},
   "outputs": [
    {
     "name": "stdout",
     "output_type": "stream",
     "text": [
      "1. Probability of Heart Disease given Age=38\n",
      "+-----------+---------------+\n",
      "| target    |   phi(target) |\n",
      "+===========+===============+\n",
      "| target(0) |        0.2773 |\n",
      "+-----------+---------------+\n",
      "| target(1) |        0.7227 |\n",
      "+-----------+---------------+\n"
     ]
    }
   ],
   "source": [
    "# Computing the Probability of Heart Disease given Age\n",
    "print('1. Probability of Heart Disease given Age=38') \n",
    "q = HeartDisease_infer.query(variables=['target'], evidence={'age': 38})  # Changed 'heartdisease' to 'target'\n",
    "print(q)"
   ]
  },
  {
   "cell_type": "code",
   "execution_count": 7,
   "id": "6f160620-772c-4747-bcc5-f8aca51a395f",
   "metadata": {},
   "outputs": [
    {
     "name": "stdout",
     "output_type": "stream",
     "text": [
      "\n",
      "2. Probability of Heart Disease given cholesterol=230\n",
      "+-----------+---------------+\n",
      "| target    |   phi(target) |\n",
      "+===========+===============+\n",
      "| target(0) |        1.0000 |\n",
      "+-----------+---------------+\n",
      "| target(1) |        0.0000 |\n",
      "+-----------+---------------+\n"
     ]
    }
   ],
   "source": [
    "# Computing the Probability of Heart Disease given cholesterol \n",
    "print('\\n2. Probability of Heart Disease given cholesterol=230') \n",
    "q = HeartDisease_infer.query(variables=['target'], evidence={'chol': 230})  # Changed 'heartdisease' to 'target'\n",
    "print(q)"
   ]
  }
 ],
 "metadata": {
  "kernelspec": {
   "display_name": "usr",
   "language": "python",
   "name": "python3"
  },
  "language_info": {
   "codemirror_mode": {
    "name": "ipython",
    "version": 3
   },
   "file_extension": ".py",
   "mimetype": "text/x-python",
   "name": "python",
   "nbconvert_exporter": "python",
   "pygments_lexer": "ipython3",
   "version": "3.12.7"
  }
 },
 "nbformat": 4,
 "nbformat_minor": 5
}
