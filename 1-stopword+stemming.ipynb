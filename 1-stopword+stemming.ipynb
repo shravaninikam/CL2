{
 "cells": [
  {
   "cell_type": "markdown",
   "id": "1c45dedb-5397-45bf-b49f-390cde341dc5",
   "metadata": {},
   "source": [
    "# stop word removal"
   ]
  },
  {
   "cell_type": "code",
   "execution_count": 84,
   "id": "4f4fca1d-644a-4e3d-a847-d6185f3b70f6",
   "metadata": {},
   "outputs": [],
   "source": [
    "import io\n",
    "from nltk.corpus import stopwords"
   ]
  },
  {
   "cell_type": "code",
   "execution_count": 86,
   "id": "48c366e4-1adb-409e-a641-aab28e244f8e",
   "metadata": {},
   "outputs": [],
   "source": [
    "stop_words = set(stopwords.words('english'))"
   ]
  },
  {
   "cell_type": "code",
   "execution_count": 88,
   "id": "da9757c1-2a9c-4796-b0b5-6d14aa4c1ba4",
   "metadata": {},
   "outputs": [
    {
     "name": "stdout",
     "output_type": "stream",
     "text": [
      "Before Removing Stop Words : \n",
      "['Hi', 'there!', 'how', 'are', 'you', 'doing?', 'are', 'you', 'well']\n",
      "Length : 9\n"
     ]
    }
   ],
   "source": [
    "file1 = open(\"sample.txt\")\n",
    "\n",
    "line = file1.read()\n",
    "\n",
    "words = line.split()\n",
    "\n",
    "print(f\"Before Removing Stop Words : \\n{words}\\nLength : {len(words)}\")"
   ]
  },
  {
   "cell_type": "code",
   "execution_count": 90,
   "id": "53ee4166-001f-40ec-ba05-ff9d19ac9989",
   "metadata": {},
   "outputs": [],
   "source": [
    "for r in words:\n",
    "    if not r in stop_words:\n",
    "        appendFile = open('output_filteredtext.txt','a')\n",
    "        appendFile.write(\" \"+r)\n",
    "        appendFile.close()"
   ]
  },
  {
   "cell_type": "code",
   "execution_count": 92,
   "id": "d477af1c-d439-48bd-bf7a-629dfd094b36",
   "metadata": {},
   "outputs": [
    {
     "name": "stdout",
     "output_type": "stream",
     "text": [
      "After Removing Stop Words : \n",
      "['Hi', 'there!', 'doing?', 'well', 'Hi', 'there!', 'doing?', 'well', 'Hi', 'there!', 'doing?', 'well', 'Hi', 'there!', 'doing?', 'well', 'Hi', 'there!', 'doing?', 'well']\n",
      "Length : 20\n"
     ]
    }
   ],
   "source": [
    "file2 = open(\"output_filteredtext.txt\")\n",
    "\n",
    "line2 = file2.read()\n",
    "\n",
    "words = line2.split()\n",
    "\n",
    "print(f\"After Removing Stop Words : \\n{words}\\nLength : {len(words)}\")"
   ]
  },
  {
   "cell_type": "markdown",
   "id": "c9d1e5b2-958c-4f91-b7d5-ba9edc9ed910",
   "metadata": {},
   "source": [
    "# stemming"
   ]
  },
  {
   "cell_type": "code",
   "execution_count": 148,
   "id": "489e7db4-8f7a-4adc-aea2-d5d9e599fb35",
   "metadata": {},
   "outputs": [
    {
     "name": "stderr",
     "output_type": "stream",
     "text": [
      "[nltk_data] Downloading package punkt_tab to\n",
      "[nltk_data]     C:\\Users\\sarda\\AppData\\Roaming\\nltk_data...\n",
      "[nltk_data]   Package punkt_tab is already up-to-date!\n"
     ]
    },
    {
     "data": {
      "text/plain": [
       "True"
      ]
     },
     "execution_count": 148,
     "metadata": {},
     "output_type": "execute_result"
    }
   ],
   "source": [
    "from nltk.tokenize import word_tokenize\n",
    "from nltk.stem import PorterStemmer\n",
    "nltk.download('punkt_tab')\n"
   ]
  },
  {
   "cell_type": "code",
   "execution_count": 150,
   "id": "3f008f0b-6c86-4ae9-820e-1ba4e22a611b",
   "metadata": {},
   "outputs": [],
   "source": [
    "ps = PorterStemmer()"
   ]
  },
  {
   "cell_type": "code",
   "execution_count": 152,
   "id": "55a5575c-cafa-476b-83bb-e1b1c789350f",
   "metadata": {},
   "outputs": [
    {
     "name": "stdout",
     "output_type": "stream",
     "text": [
      "program : program\n",
      "programmer : programm\n",
      "programming : program\n",
      "programs : program\n",
      "programmers : programm\n"
     ]
    }
   ],
   "source": [
    "sample = ['program', 'programmer', 'programming', 'programs', 'programmers']\n",
    "\n",
    "for s in sample:\n",
    "    print(f\"{s} : {ps.stem(s)}\")"
   ]
  },
  {
   "cell_type": "code",
   "execution_count": 154,
   "id": "4ba3865d-807b-4a82-87a6-023853a0d3a5",
   "metadata": {},
   "outputs": [
    {
     "name": "stdout",
     "output_type": "stream",
     "text": [
      "['Programmers', 'program', 'with', 'different', 'programming', 'languages']\n"
     ]
    }
   ],
   "source": [
    "from nltk.tokenize import word_tokenize\n",
    "\n",
    "sentence = \"Programmers program with different programming languages\"\n",
    "words = word_tokenize(sentence)\n",
    "print(words)\n"
   ]
  },
  {
   "cell_type": "code",
   "execution_count": 156,
   "id": "15e87607-4313-44f5-9605-6bde39d461ea",
   "metadata": {},
   "outputs": [
    {
     "name": "stdout",
     "output_type": "stream",
     "text": [
      "Programmers : programm\n",
      "program : program\n",
      "with : with\n",
      "different : differ\n",
      "programming : program\n",
      "languages : languag\n"
     ]
    }
   ],
   "source": [
    "for w in words:\n",
    "    print(f\"{w} : {ps.stem(w)}\")"
   ]
  },
  {
   "cell_type": "code",
   "execution_count": null,
   "id": "52b85192-cb43-468f-bee6-a1e2a127a0f4",
   "metadata": {},
   "outputs": [],
   "source": []
  }
 ],
 "metadata": {
  "kernelspec": {
   "display_name": "Python 3 (ipykernel)",
   "language": "python",
   "name": "python3"
  },
  "language_info": {
   "codemirror_mode": {
    "name": "ipython",
    "version": 3
   },
   "file_extension": ".py",
   "mimetype": "text/x-python",
   "name": "python",
   "nbconvert_exporter": "python",
   "pygments_lexer": "ipython3",
   "version": "3.9.20"
  }
 },
 "nbformat": 4,
 "nbformat_minor": 5
}
