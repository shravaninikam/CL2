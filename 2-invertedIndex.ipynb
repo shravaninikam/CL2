{
 "cells": [
  {
   "cell_type": "code",
   "execution_count": 1,
   "id": "25c1e487-b074-4b57-9146-13a643f581f6",
   "metadata": {},
   "outputs": [],
   "source": [
    "document1 = \"The quick brown fox jumped over the lazy dog.\" \n",
    "document2 = \"The lazy dog slept in the sun.\""
   ]
  },
  {
   "cell_type": "code",
   "execution_count": 2,
   "id": "e7929749-abc3-46ff-bbba-91a0375747ae",
   "metadata": {},
   "outputs": [
    {
     "name": "stdout",
     "output_type": "stream",
     "text": [
      "Token1 : ['the', 'quick', 'brown', 'fox', 'jumped', 'over', 'the', 'lazy', 'dog.']\n",
      "\n",
      "\n",
      "Token2 : ['the', 'lazy', 'dog', 'slept', 'in', 'the', 'sun.']\n"
     ]
    }
   ],
   "source": [
    "# Convert each document to lowercase and split it into words\n",
    "tokens1 = document1.lower().split()\n",
    "tokens2 = document2.lower().split()\n",
    "print(f\"Token1 : {tokens1}\")\n",
    "print(f\"\\n\\nToken2 : {tokens2}\")"
   ]
  },
  {
   "cell_type": "code",
   "execution_count": 3,
   "id": "d5adab18-f6a8-434c-92db-b3e08765af3a",
   "metadata": {},
   "outputs": [
    {
     "name": "stdout",
     "output_type": "stream",
     "text": [
      "Terms : ['sun.', 'jumped', 'the', 'slept', 'brown', 'lazy', 'fox', 'quick', 'dog.', 'over', 'in', 'dog']\n"
     ]
    }
   ],
   "source": [
    "# Combine the tokens into a list of unique terms\n",
    "terms = list(set(tokens1 + tokens2))\n",
    "print(f\"Terms : {terms}\")"
   ]
  },
  {
   "cell_type": "code",
   "execution_count": 4,
   "id": "d3caaa8d-b2b2-4ddb-a118-e1c4bfe9aa3a",
   "metadata": {},
   "outputs": [
    {
     "name": "stdout",
     "output_type": "stream",
     "text": [
      "Inverted Index Dictionary : \n",
      "{'sun.': ['Document 2'], 'jumped': ['Document 1'], 'the': ['Document 1', 'Document 2'], 'slept': ['Document 2'], 'brown': ['Document 1'], 'lazy': ['Document 1', 'Document 2'], 'fox': ['Document 1'], 'quick': ['Document 1'], 'dog.': ['Document 1'], 'over': ['Document 1'], 'in': ['Document 2'], 'dog': ['Document 2']}\n"
     ]
    }
   ],
   "source": [
    "# Create an empty dictionary to store the inverted index \n",
    "inverted_index = {}\n",
    "\n",
    "# For each term, find the documents that contain it \n",
    "for term in terms:\n",
    "    documents = []\n",
    "    if term in tokens1: \n",
    "        documents.append(\"Document 1\")\n",
    "    if term in tokens2: \n",
    "        documents.append(\"Document 2\")\n",
    "    inverted_index[term] = documents\n",
    "\n",
    "print(f\"Inverted Index Dictionary : \\n{inverted_index}\")"
   ]
  },
  {
   "cell_type": "code",
   "execution_count": 6,
   "id": "48109c82-db85-4f2e-9587-971030ec160a",
   "metadata": {},
   "outputs": [
    {
     "name": "stdout",
     "output_type": "stream",
     "text": [
      "sun. -> Document 2\n",
      "jumped -> Document 1\n",
      "the -> Document 1, Document 2\n",
      "slept -> Document 2\n",
      "brown -> Document 1\n",
      "lazy -> Document 1, Document 2\n",
      "fox -> Document 1\n",
      "quick -> Document 1\n",
      "dog. -> Document 1\n",
      "over -> Document 1\n",
      "in -> Document 2\n",
      "dog -> Document 2\n"
     ]
    }
   ],
   "source": [
    "# Print inverted index\n",
    "for term, documents in inverted_index.items(): \n",
    "    print(f\"{term} -> {', '.join(documents)}\")"
   ]
  },
  {
   "cell_type": "code",
   "execution_count": null,
   "id": "55bd3fc9-bc15-43d9-afd9-f866dce1408c",
   "metadata": {},
   "outputs": [],
   "source": []
  }
 ],
 "metadata": {
  "kernelspec": {
   "display_name": "usr",
   "language": "python",
   "name": "python3"
  },
  "language_info": {
   "codemirror_mode": {
    "name": "ipython",
    "version": 3
   },
   "file_extension": ".py",
   "mimetype": "text/x-python",
   "name": "python",
   "nbconvert_exporter": "python",
   "pygments_lexer": "ipython3",
   "version": "3.12.6"
  }
 },
 "nbformat": 4,
 "nbformat_minor": 5
}
